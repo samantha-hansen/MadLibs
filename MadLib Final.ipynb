{
 "cells": [
  {
   "cell_type": "code",
   "execution_count": null,
   "id": "f770af4a",
   "metadata": {},
   "outputs": [],
   "source": [
    "#Madlibs Generator"
   ]
  },
  {
   "cell_type": "code",
   "execution_count": 4,
   "id": "f6f45d72",
   "metadata": {},
   "outputs": [
    {
     "name": "stdout",
     "output_type": "stream",
     "text": [
      "Give me a relative: Brother\n",
      "Give me an adjective: hairy\n",
      "Give me another adjective: veiny\n",
      "Give me another adjective: gangly\n",
      "Give me a person in the room: Mom\n",
      "Give me another adjective: curvy\n",
      "Give me a person in the room: luna\n",
      "Give me another adjective: tall\n",
      "Give me a verb ending in ed: popped\n",
      "Give me a body part: leg\n",
      "Give me a verb ending in ing: swimming\n",
      "Give me a plural noun: nuns\n",
      "Give me a noun: nun\n",
      "Give me an adverb: quickly\n",
      "Give me a verb: falling\n",
      "Give me another verb: shooting\n",
      "Give me another relative: dave\n",
      "Give me another person in the room: Levi\n",
      "\n",
      "Dear Brother,\n",
      "I am having a(n) hairy time at camp. \n",
      "The counselour is veiny and the food is gangly. \n",
      "I met Mom and we became curvy friends. \n",
      "Unfortunately, luna is tall and I popped my leg so we couldn`t go swimming like everybody else. \n",
      "I need more nuns and a nun sharpener, so please quickly falling more when you shooting back.\n",
      "Your dave,\n",
      "Levi\n",
      "\n"
     ]
    }
   ],
   "source": [
    "#Ask the user to provide missing words\n",
    "relative = input(\"Give me a relative: \")\n",
    "adjective = input(\"Give me an adjective: \")\n",
    "adjective2 = input(\"Give me another adjective: \")\n",
    "adjective3 = input(\"Give me another adjective: \")\n",
    "person_in_room = input(\"Give me a person in the room: \")\n",
    "adjective4 = input(\"Give me another adjective: \")\n",
    "person_in_room2 = input(\"Give me a person in the room: \")\n",
    "adjective5 = input(\"Give me another adjective: \")\n",
    "verb_ending_in_ed = input(\"Give me a verb ending in ed: \")\n",
    "body_part = input(\"Give me a body part: \")\n",
    "verb_ending_in_ing = input(\"Give me a verb ending in ing: \")\n",
    "plural_noun = input(\"Give me a plural noun: \")\n",
    "noun = input(\"Give me a noun: \")\n",
    "adverb = input(\"Give me an adverb: \")\n",
    "verb = input(\"Give me a verb: \")\n",
    "verb2 = input(\"Give me another verb: \")\n",
    "relative2 = input(\"Give me another relative: \")\n",
    "person_in_room3 = input(\"Give me another person in the room: \")\n",
    "\n",
    "# Write a story with some words missing\n",
    "story = f\"\"\"\n",
    "Dear {relative},\n",
    "I am having a(n) {adjective} time at camp. \n",
    "The counselour is {adjective2} and the food is {adjective3}. \n",
    "I met {person_in_room} and we became {adjective4} friends. \n",
    "Unfortunately, {person_in_room2} is {adjective5} and I {verb_ending_in_ed} my {body_part} so we couldn`t go {verb_ending_in_ing} like everybody else. \n",
    "I need more {plural_noun} and a {noun} sharpener, so please {adverb} {verb} more when you {verb2} back.\n",
    "Your {relative2},\n",
    "{person_in_room3}\n",
    "\"\"\"\n",
    "\n",
    "#Display the final story\n",
    "print(story)"
   ]
  },
  {
   "cell_type": "code",
   "execution_count": null,
   "id": "0796dbf1",
   "metadata": {},
   "outputs": [],
   "source": []
  }
 ],
 "metadata": {
  "kernelspec": {
   "display_name": "Python 3 (ipykernel)",
   "language": "python",
   "name": "python3"
  },
  "language_info": {
   "codemirror_mode": {
    "name": "ipython",
    "version": 3
   },
   "file_extension": ".py",
   "mimetype": "text/x-python",
   "name": "python",
   "nbconvert_exporter": "python",
   "pygments_lexer": "ipython3",
   "version": "3.9.13"
  }
 },
 "nbformat": 4,
 "nbformat_minor": 5
}
